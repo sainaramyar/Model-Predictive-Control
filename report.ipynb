{
 "cells": [
  {
   "cell_type": "markdown",
   "metadata": {},
   "source": [
    "# Project Overview\n",
    "\n",
    "The objective of this project is to plan the optimal trajectory of a vehicle on a track using model predictive control."
   ]
  },
  {
   "cell_type": "markdown",
   "metadata": {},
   "source": [
    "## Vehicle Model\n",
    "\n",
    "The vehicle model used in this project is a kinematic model. This model has four states which are longitudinal and lateral position (`x` and `y`), velocity `v` and orientation angle `psi`. The model also has two control inputs acceleration `a` and steering angle `delta`.\n",
    "\n",
    "The system states are updated as follows:\n",
    "\n",
    "`x1 = (x0 + v0 * CppAD::cos(psi0) * dt)\n",
    "y1 = (y0 + v0 * CppAD::sin(psi0) * dt)\n",
    "psi1 = (psi0 + v0 * delta0 / Lf * dt)\n",
    "v1 = (v0 + a0 * dt)`\n",
    "\n",
    "Where `Lf` is the length of the vehicle.\n",
    "  \n"
   ]
  },
  {
   "cell_type": "markdown",
   "metadata": {},
   "source": [
    "## Control Horizon and Sampling Time\n",
    "\n",
    "The MPC determines an optimal control signal over a finite horizon. The control horizon (`N`) and time steps (`dt`) within the horizon are chosen by the designer. Choosing values for both these parameters is a trade off between accuracy and computational cost.\n",
    "\n",
    "A larger value for `N` results in prediction of a longer time in the future, but it also increases the computational load which may decrease the real-time performance of the controller. On the other hand, an unusally large horizon may also result in predictions far into the future which are unrealistic for the controller to process. \n",
    "\n",
    "A similar challenge exists for choosing `dt`, a smaller value for sampling time increases the accuracy of prediction, but limits the horizon for a fixed (`N`) value.\n",
    "\n",
    "Overall, a combination of `N` and `dt` that results in a predicion horizon of around 2 seconds is ideal in my opinion, because it is long enough for the controller to plan the optimal trajectory but not too long that it misses something unexpectant along the way. As a result, `N = 10` and `dt = 0.2` where used for the project.\n",
    "I experimented with larger `N` values  such as 20 15 and 20, and turned out 20 is too large fot the horzion and 15 did not showed any change in performance so they were not chosen. In addition, I chose the value of `dt` larger than the latency in order to reduce its effect."
   ]
  },
  {
   "cell_type": "markdown",
   "metadata": {},
   "source": [
    "## Coordinate Transforms\n",
    "\n",
    "Since the controller works in the vehicle coordinate system, all the values in the map coordinate should be transformed. In the car coordinate, the x axis is in the vehicle's direction and y axis is orthogonal to the x, with positive values to the left. The transformation equations are as follows:\n",
    "\n",
    "`for (int i = 0; i < ptsx.size(); i++) {\n",
    "\t\t\t  double x = ptsx[i] - px;\n",
    "\t\t\t  double y = ptsy[i] - py;\n",
    "\t\t\t  ptsx1[i] = (x * cos(psi) + y * sin(psi));\n",
    "\t\t\t  ptsy1[i] = (-x * sin(psi) + y * cos(psi));\n",
    "\t\t  }`\n",
    "          \n",
    "Where `ptsx` and `ptsy` are the reference trajectory, `px` and `py` are the measures positions from the vehicle and `ptsx1` and `ptsy1` are the transformed coordinates.\n",
    "          "
   ]
  },
  {
   "cell_type": "markdown",
   "metadata": {},
   "source": [
    "## Latency\n",
    "\n",
    "In this project there is a 100 millisecond latency between actuations commands on top of the connection latency.\n",
    "In order to compensat efor this latency, the behavior of the vehicle is estimated over that time and added to the measeured vale. The following equations are used for compensation:\n",
    "\n",
    "`v = v + a*latency;\n",
    "px = px + v*cos(psi)*latency;\n",
    "py = py + v*sin(psi)*latency;`\n",
    "\n",
    "If the delay is not considered, the controller's output will not be based on accurate measurements and the performance will be degraded."
   ]
  }
 ],
 "metadata": {
  "kernelspec": {
   "display_name": "Python 3",
   "language": "python",
   "name": "python3"
  },
  "language_info": {
   "codemirror_mode": {
    "name": "ipython",
    "version": 3
   },
   "file_extension": ".py",
   "mimetype": "text/x-python",
   "name": "python",
   "nbconvert_exporter": "python",
   "pygments_lexer": "ipython3",
   "version": "3.5.2"
  },
  "widgets": {
   "state": {},
   "version": "1.1.2"
  }
 },
 "nbformat": 4,
 "nbformat_minor": 2
}
