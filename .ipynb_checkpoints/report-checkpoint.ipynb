{
 "cells": [
  {
   "cell_type": "markdown",
   "metadata": {},
   "source": [
    "# Project Overview\n",
    "\n",
    "The objective of this project is to plan the optimal trajectory of a vehicle on a track using model predictive control."
   ]
  },
  {
   "cell_type": "markdown",
   "metadata": {},
   "source": [
    "## Vehicle Model\n",
    "\n",
    "The vehicle model used in this project is a kinematic model. This model has four states which are longitudinal and lateral position (`x` and `y`), velocity `v` and orientation angle `psi`. The model also has two control inputs acceleration `a` and steering angle `delta`.\n",
    "\n",
    "The system states are updated as follows:\n",
    "\n",
    "`x1 = (x0 + v0 * CppAD::cos(psi0) * dt)\n",
    "y1 = (y0 + v0 * CppAD::sin(psi0) * dt)\n",
    "psi1 = (psi0 + v0 * delta0 / Lf * dt)\n",
    "v1 = (v0 + a0 * dt)`\n",
    "\n",
    "Where `Lf` is the length of the vehicle.\n",
    "Two errors are defined to evaluate the control performance of the system:\n",
    "Cross Track Error (`cte`):\n",
    "Orientation error (`epsi`):\n",
    "\n",
    "These error signals are updated in every time step using the following equations:\n",
    "\n",
    "`cte1 = ((f0 - y0) + (v0 * CppAD::sin(epsi0) * dt));\n",
    "epsi1 = ((psi0 - psides0) + v0 * delta0 / Lf * dt);`\n",
    "    \n"
   ]
  },
  {
   "cell_type": "markdown",
   "metadata": {},
   "source": [
    "#  reasoning behind the chosen N (timestep length) and dt (elapsed duration between timesteps) values. Additionally the student details the previous values tried."
   ]
  },
  {
   "cell_type": "markdown",
   "metadata": {},
   "source": [
    "# A polynomial is fitted to waypoints.\n",
    "\n",
    "If the student preprocesses waypoints, the vehicle state, and/or actuators prior to the MPC procedure it is described.\n",
    "\n"
   ]
  },
  {
   "cell_type": "markdown",
   "metadata": {},
   "source": [
    "# The student implements Model Predictive Control that handles a 100 millisecond latency. Student provides details on how they deal with latency."
   ]
  },
  {
   "cell_type": "code",
   "execution_count": null,
   "metadata": {
    "collapsed": true
   },
   "outputs": [],
   "source": []
  }
 ],
 "metadata": {
  "kernelspec": {
   "display_name": "Python 3",
   "language": "python",
   "name": "python3"
  },
  "language_info": {
   "codemirror_mode": {
    "name": "ipython",
    "version": 3
   },
   "file_extension": ".py",
   "mimetype": "text/x-python",
   "name": "python",
   "nbconvert_exporter": "python",
   "pygments_lexer": "ipython3",
   "version": "3.5.2"
  },
  "widgets": {
   "state": {},
   "version": "1.1.2"
  }
 },
 "nbformat": 4,
 "nbformat_minor": 2
}
